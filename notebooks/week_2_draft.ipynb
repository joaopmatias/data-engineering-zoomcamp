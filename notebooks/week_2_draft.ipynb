{
 "cells": [
  {
   "attachments": {},
   "cell_type": "markdown",
   "metadata": {},
   "source": [
    "\n",
    "\n",
    "etl_web_to_gcs.py\n",
    "\n",
    "https://github.com/DataTalksClub/nyc-tlc-data\n",
    "\n",
    "2020-01\n",
    "\n",
    "https://github.com/DataTalksClub/nyc-tlc-data/releases/download/green/green_tripdata_2020-01.csv.gz\n",
    "\n",
    "https://github.com/discdiver/prefect-zoomcamp\n",
    "\n",
    "mkdir data/green\n",
    "\n",
    "gcs bucket dtc_data_lake_taxi-rides-ny-373121\n",
    "\n",
    "gcp blocks\n"
   ]
  },
  {
   "attachments": {},
   "cell_type": "markdown",
   "metadata": {},
   "source": [
    "# Question 1\n",
    "\n",
    "```\n",
    "01:32:20.605 | INFO    | prefect.engine - Created flow run 'feathered-doberman' for flow 'etl-web-to-gcs'\n",
    "01:32:20.769 | INFO    | Flow run 'feathered-doberman' - Created task run 'fetch-b4598a4a-0' for task 'fetch'\n",
    "01:32:20.770 | INFO    | Flow run 'feathered-doberman' - Executing 'fetch-b4598a4a-0' immediately...\n",
    "/home/joaopmatias/data-engineering-zoomcamp/week_2_workflow_orchestration/etl_web_to_gcs.py:14: DtypeWarning: Columns (3) have mixed types. Specify dtype option on import or set low_memory=False.\n",
    "  df = pd.read_csv(dataset_url)\n",
    "01:32:24.357 | INFO    | Task run 'fetch-b4598a4a-0' - Finished in state Completed()\n",
    "01:32:24.387 | INFO    | Flow run 'feathered-doberman' - Created task run 'clean-b9fd7e03-0' for task 'clean'\n",
    "01:32:24.388 | INFO    | Flow run 'feathered-doberman' - Executing 'clean-b9fd7e03-0' immediately...\n",
    "01:32:24.626 | INFO    | Task run 'clean-b9fd7e03-0' -    VendorID lpep_pickup_datetime lpep_dropoff_datetime  ... payment_type  trip_type  congestion_surcharge\n",
    "0       2.0  2019-12-18 15:52:30   2019-12-18 15:54:39  ...          1.0        1.0                   0.0\n",
    "1       2.0  2020-01-01 00:45:58   2020-01-01 00:56:39  ...          1.0        2.0                   0.0\n",
    "\n",
    "[2 rows x 20 columns]\n",
    "01:32:24.628 | INFO    | Task run 'clean-b9fd7e03-0' - columns: VendorID                        float64\n",
    "lpep_pickup_datetime     datetime64[ns]\n",
    "lpep_dropoff_datetime    datetime64[ns]\n",
    "store_and_fwd_flag               object\n",
    "RatecodeID                      float64\n",
    "PULocationID                      int64\n",
    "DOLocationID                      int64\n",
    "passenger_count                 float64\n",
    "trip_distance                   float64\n",
    "fare_amount                     float64\n",
    "extra                           float64\n",
    "mta_tax                         float64\n",
    "tip_amount                      float64\n",
    "tolls_amount                    float64\n",
    "ehail_fee                       float64\n",
    "improvement_surcharge           float64\n",
    "total_amount                    float64\n",
    "payment_type                    float64\n",
    "trip_type                       float64\n",
    "congestion_surcharge            float64\n",
    "dtype: object\n",
    "01:32:24.629 | INFO    | Task run 'clean-b9fd7e03-0' - rows: 447770\n",
    "01:32:24.659 | INFO    | Task run 'clean-b9fd7e03-0' - Finished in state Completed()\n",
    "01:32:24.685 | INFO    | Flow run 'feathered-doberman' - Created task run 'write_local-f322d1be-0' for task 'write_local'\n",
    "01:32:24.686 | INFO    | Flow run 'feathered-doberman' - Executing 'write_local-f322d1be-0' immediately...\n",
    "01:32:26.119 | INFO    | Task run 'write_local-f322d1be-0' - Finished in state Completed()\n",
    "01:32:26.149 | INFO    | Flow run 'feathered-doberman' - Created task run 'write_gcs-1145c921-0' for task 'write_gcs'\n",
    "01:32:26.150 | INFO    | Flow run 'feathered-doberman' - Executing 'write_gcs-1145c921-0' immediately...\n",
    "01:32:26.230 | INFO    | Task run 'write_gcs-1145c921-0' - Getting bucket 'dtc_data_lake_taxi-rides-ny-373121'.\n",
    "01:32:26.381 | INFO    | Task run 'write_gcs-1145c921-0' - Uploading from PosixPath('data/green/green_tripdata_2020-01.parquet') to the bucket 'dtc_data_lake_taxi-rides-ny-373121' path 'data/green/green_tripdata_2020-01.parquet'.\n",
    "01:32:26.706 | INFO    | Task run 'write_gcs-1145c921-0' - Finished in state Completed()\n",
    "01:32:26.737 | INFO    | Flow run 'feathered-doberman' - Finished in state Completed('All states completed.')\n",
    "\n",
    "```\n",
    "\n",
    "**Answer**: `rows: 447770`"
   ]
  },
  {
   "attachments": {},
   "cell_type": "markdown",
   "metadata": {},
   "source": [
    "# Question 2\n",
    "\n",
    "Create a deployment and edit cron:\n",
    "\n",
    "```\n",
    "prefect deployment build etl_gcs_to_bq.py:etl_gcs_to_bq\n",
    "\n",
    "prefect deployment apply etl_gcs_to_bq-deployment.yaml\n",
    "```\n",
    "\n",
    "**Answer**: `0 5 * * *`"
   ]
  },
  {
   "attachments": {},
   "cell_type": "markdown",
   "metadata": {},
   "source": [
    "# Question 3\n",
    "\n",
    "**Answer**: 14851920"
   ]
  },
  {
   "cell_type": "markdown",
   "metadata": {},
   "source": []
  }
 ],
 "metadata": {
  "kernelspec": {
   "display_name": "Python 3",
   "language": "python",
   "name": "python3"
  },
  "language_info": {
   "name": "python",
   "version": "3.10.6"
  },
  "orig_nbformat": 4,
  "vscode": {
   "interpreter": {
    "hash": "31f2aee4e71d21fbe5cf8b01ff0e069b9275f58929596ceb00d14d90e3e16cd6"
   }
  }
 },
 "nbformat": 4,
 "nbformat_minor": 2
}
